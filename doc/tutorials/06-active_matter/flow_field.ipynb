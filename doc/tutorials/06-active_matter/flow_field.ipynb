{
 "metadata": {
  "name": "",
  "signature": "sha256:ce7e2973c2b4403e04bacabd293678af071f94a66c07a2e5441c480d8c03d64e"
 },
 "nbformat": 3,
 "nbformat_minor": 0,
 "worksheets": [
  {
   "cells": [
    {
     "cell_type": "heading",
     "level": 1,
     "metadata": {},
     "source": [
      "Active Matter Tutorial - II"
     ]
    },
    {
     "cell_type": "markdown",
     "metadata": {},
     "source": [
      "Following the previous tutorial on self-propulsion without hydrodynamics, we will now look at the case in which hydrodynamic interactions are at work. In such situations where hydrodynamic interactions between swimmers or swimmers and objects are of importance, we use the lattice-Boltzmann (LB) method to propagate the fluid's momentum diffusion. This requires the additional activation of the <tt>LB</tt> or <tt>LB_GPU</tt> feature in <tt>ESPResSo</tt> [31,33,34]. We recommend the GPU-based variant of LB in <tt>ESPResSo</tt> since it is much faster. Moreover, the current implementation of the CPU self-propulsion is limited to one CPU. This is because the ghost-node structure of the <tt>ESPResSo</tt> cell-list code does not allow for straightforward MPI parallellization of the swimmer objects across several CPUs."
     ]
    },
    {
     "cell_type": "markdown",
     "metadata": {},
     "source": [
      "Of particular importance for self-propulsion at low Reynolds number is the fact that active systems (bacteria, sperm, algae, but also artificial chemically powered swimmers) are force free. That is, the flow field around one of these objects does not contain a monopolar (Stokeslet) contribution. In the case of a sperm cell, see Fig. 2 (a), the reasoning is as follows. The whip-like tail pushes against the fluid and the fluid pushes against the tail, at the same time the head experiences drag, pushing against the fluid and being pushed back against by the fluid. This ensures that both the swimmer and the fluid experience no net force. However, due to the asymmetry of the distribution of forces around the swimmer, the fluid flow still causes net motion. When there is no net force on the fluid, the lowest-order multipole that can be present is a hydrodynamic dipole. Since a dipole has an orientation, there are two types of swimmer: pushers and pullers. The distinction is made by whether the particle pulls fluid in from the front and back, and pushes it out towards its side (puller), or vice versa (pusher), see Fig. 1 (c,d)."
     ]
    },
    {
     "cell_type": "markdown",
     "metadata": {},
     "source": [
      "In <tt>ESPResSo</tt> one can model both pushers and pullers using the following command. Say we want to set up a pusher with ID 0 at the position $(1,1,1)$ that has a dipolar strength of $0.1$. Then we need to first set up the LB fluid (on the GPU) by invoking"
     ]
    },
    {
     "cell_type": "code",
     "collapsed": false,
     "input": [],
     "language": "python",
     "metadata": {},
     "outputs": []
    }
   ],
   "metadata": {}
  }
 ]
}