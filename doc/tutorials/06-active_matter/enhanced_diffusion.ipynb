{
 "metadata": {
  "name": "",
  "signature": "sha256:ca2e127d7f12609ee7f002496b6e5e6b022fc94825f20ad5d658ce73ab5ff8a2"
 },
 "nbformat": 3,
 "nbformat_minor": 0,
 "worksheets": [
  {
   "cells": [
    {
     "cell_type": "heading",
     "level": 1,
     "metadata": {},
     "source": [
      "Active Matter Tutorial"
     ]
    },
    {
     "cell_type": "markdown",
     "metadata": {},
     "source": [
      "In this tutorial, we will explore differrent ways to simulate self-propulsion in the simulation software package <tt>ESPResSo</tt>. We will consider three examples that illustrate the properties of these systems. First, we study the concept of enhanced diffusion of a self-propelled particle. Second, we investigate rectification in an asymmetric geometry. Finally, we determine the flow field around a self-propelled particle using lattice-Boltzmann simulations (LB). These three subsections should give insight into the basics of simulating active matter with <tt>ESPResSo</tt>. This tutorial assumes basic knowledge of Python and <tt>ESPResSo</tt>, as well as the use of lattice-Boltzmann within <tt>ESPResSo</tt>. It is, therefore, recommended to go through the relevant tutorials before attempting this one."
     ]
    },
    {
     "cell_type": "heading",
     "level": 2,
     "metadata": {},
     "source": [
      "Active Particles"
     ]
    },
    {
     "cell_type": "markdown",
     "metadata": {},
     "source": [
      "Active matter is a term that describes a class of systems in which energy is constantly consumed to perform work. These systems are therefore highly out-of-equilibrium (thermodynamically) and thus defy description using the standard framework of statistical mechanics. Active systems are, however, ubiquitous. On our length scale, we encounter flocks of birds [1], schools of fish [2], and, of course, humans [3-5]; on the mesoscopic level examples are found in bacteria [6-8], s[erm [9-11], and algae [12,13]; and on the nanoscopic level, transport along the cytoskeleton is achieved by myosin motors [14]. This exemplifies that range of length scales which the field of active matter encompasses, as well as its diversity. Recent years have seen a huge increase in studies into systems consisting of self-propelled particles, in particular artificial ones in the colloidal regime [15-28]. These self-propelled colloids show promise as physical model systems for complex biological behavior (for example, bacteria moving collectively) and could be used to answer fundamental questions concerning out-of-equilibrium statistical physics [29,30]. Simulations can also play an important role in this regard, as the relevant parameters are more easily tunable and the results are \\`cleaner' than in experiments. This justifies the importance of simulations in this field."
     ]
    },
    {
     "cell_type": "heading",
     "level": 2,
     "metadata": {},
     "source": [
      "Active Particles in ESPResSo"
     ]
    },
    {
     "cell_type": "markdown",
     "metadata": {},
     "source": [
      "In <tt>ESPResSo</tt>, the <tt>ENGINE</tt> feature offers an intuitive syntax for adding self-propulsion to a particle. The propulsion will occur along the vector that defines the orientation of the particle (henceforth referred to as \\`director'). In <tt>ESPResSo</tt>, the orientation of the particle is defined by a quaternion; this in turn defines a rotation matrix that acts on the particle's initial orientation (along the z-axis), which then defines the particle's current orientation through the matrix-oriented vector [31-33]. Within the <tt>ENGINE</tt> feature there are two ways of setting up a self-propelled particle, with and without hydrodynamic interactions. The particle without hydrodynamic interactions will be discussed first as it is the simplest case."
     ]
    },
    {
     "cell_type": "heading",
     "level": 3,
     "metadata": {},
     "source": [
      "Self-Propulsion without Hydrodynamics"
     ]
    },
    {
     "cell_type": "markdown",
     "metadata": {},
     "source": [
      "For this type of self-propulsion the Langevin thermostat is exploited. The Langevin thermostat causes a particle to experience a velocity-dependent friction [31]. When a constant force is applied along the director, the friction causes the particle to attain a terminal velocity, due to the balance of driving and friction force, see Fig. 1. The exponent with which the particle's velocity relaxes towards this value depends on the strength of the friction and the mass of the particle. The <tt>ENGINE</tt> feature implies that rotation of the particles (the <tt>ROTATION</tt> feature) is compiled into <tt>ESPResSo</tt>. The particle can thus reorient due to external torques or due to thermal fluctuations, whenever the rotational degrees of freedom are thermalized. This \\`engine' building block can be connected to other particles, e.g., via virtual sites (rigid bonds) [31] to construct complex self-propelled objects."
     ]
    },
    {
     "cell_type": "markdown",
     "metadata": {},
     "source": [
      "<figure>\n",
      "<img src='figures/friction.png' alt='missing' style='width: 300px;'/>\n",
      "<figcaption> FIG. 1. A balance of the driving force in the direction defined by the \\`director' unit vector and the friction due to the Langevin thermostat results in a constant terminal velocity.\n",
      "</figure>"
     ]
    },
    {
     "cell_type": "markdown",
     "metadata": {},
     "source": [
      "The syntax for the Langevin-based swimming is incorporated in the <tt>ParticleHandle</tt> command of <tt>ESPResSo</tt>. You can either set up the self-propulsion during the creation of a particle or at a later stage. \n",
      "\n",
      "To run the simulations for this set of active matter tutorials, the following <tt>FEATURES</tt> must be enabled: <tt>CONSTRAINTS, MASS, ENGINE, ROTATION, ROTATIONAL_INERTIA, LB_GPU, LB_BOUNDARIES_GPU, LENNARD_JONES</tt>. To print the enabled features, one can use the <tt>print(espressomd.features())</tt> command. In the following example, we import <tt>espressomd</tt>, set up the system and add a particle with ID 0 at the position $(5,5,5)$ with a terminal velocity of $1.0$. Setting <tt>rotation=[1,1,1]</tt> allows the particle to rotate freely. We use the Langevin thermostat to fix temperature such that $kT=1.0$ and the friction coefficient $\\gamma=1.0$."
     ]
    },
    {
     "cell_type": "code",
     "collapsed": false,
     "input": [
      "# Import espresso and relevant python packages\n",
      "import espressomd\n",
      "import numpy as np\n",
      "\n",
      "print(espressomd.features())\n",
      "\n",
      "# System setup\n",
      "box_l = 10\n",
      "system = espressomd.System(box_l=[10.0,10.0,10.0])\n",
      "system.cell_system.skin = 0.3\n",
      "system.time_step = 0.01\n",
      "\n",
      "# Parameters for integration\n",
      "sampsteps = 20000\n",
      "samplength = 1000\n",
      "\n",
      "# Thermostat\n",
      "system.thermostat.set_langevin(kT=1.0, gamma=1.0)\n",
      "\n",
      "# Add a particle\n",
      "system.part.add(pos=[5,5,5],swimming={'v_swim':1.0},rotation=[1,1,1])"
     ],
     "language": "python",
     "metadata": {},
     "outputs": [
      {
       "output_type": "stream",
       "stream": "stdout",
       "text": [
        "['CONSTRAINTS', 'CUDA', 'ENGINE', 'EXPERIMENTAL_FEATURES', 'EXTERNAL_FORCES', 'FFTW', 'GSL', 'H5MD', 'LANGEVIN_PER_PARTICLE', 'LATTICE', 'LB_BOUNDARIES_GPU', 'LB_GPU', 'LEES_EDWARDS', 'LENNARD_JONES', 'LENNARD_JONES_GENERIC', 'LJCOS', 'LJCOS2', 'MASS', 'PARTICLE_ANISOTROPY', 'ROTATION', 'ROTATIONAL_INERTIA', 'VIRTUAL_SITES', 'VIRTUAL_SITES_RELATIVE']\n"
       ]
      },
      {
       "metadata": {},
       "output_type": "pyout",
       "prompt_number": 2,
       "text": [
        "<espressomd.particle_data.ParticleHandle at 0x2b305b70ba08>"
       ]
      }
     ],
     "prompt_number": 2
    },
    {
     "cell_type": "markdown",
     "metadata": {},
     "source": [
      "As you can see, the keyword for setting up the engine is <tt>swimming</tt>. The code <tt>{'v_swim':1.0}</tt> sets the terminal velocity to $1.0$ (in MD units). Setting the terminal velocity directly is possible, since the terminal velocity is simply the ratio of the applied driving force and Langevin friction coefficient. It is also possible to set the driving force directly, which requires you to calculate/compute the terminal velocity. This can be achieved by replacing <tt>v_swim</tt> with <tt>f_swim</tt>. Note that the options <tt>v_swim</tt> and <tt>f_swim</tt> are mutually exclusive. The Langevin stability criteria limits the force/velocity and time step that can be used.\n",
      "\n",
      "To modify a passive particle (switch on self-propulsion) or deactivate activity, one can use the following commands. Suppose a passive particle with ID 0 has been set up, we can add self-propulsion to it by specifying"
     ]
    },
    {
     "cell_type": "code",
     "collapsed": false,
     "input": [
      "system.part[0].swimming = {'f_swim':0.03}"
     ],
     "language": "python",
     "metadata": {},
     "outputs": [],
     "prompt_number": 3
    },
    {
     "cell_type": "markdown",
     "metadata": {},
     "source": [
      "A particle's activity can be switched off, by setting <tt>f_swim</tt> ( or </tt>v_swim</tt> in case you'd set </tt>v_swim</tt> earlier) to zero."
     ]
    },
    {
     "cell_type": "code",
     "collapsed": false,
     "input": [
      "system.part[0].swimming = {'f_swim':0.0}"
     ],
     "language": "python",
     "metadata": {},
     "outputs": [],
     "prompt_number": 4
    },
    {
     "cell_type": "markdown",
     "metadata": {},
     "source": [
      "The numerical values of <tt>v_swim</tt> and <tt>f_swim</tt> in these examples are completely arbitrary and crucially depend on all other parameters of your simulation such as friction, temperature, interactions, etc. Please consult the User Guide [31] for additional information."
     ]
    },
    {
     "cell_type": "heading",
     "level": 4,
     "metadata": {},
     "source": [
      "Enhanced Diffusion"
     ]
    },
    {
     "cell_type": "markdown",
     "metadata": {},
     "source": [
      "Self-propelled particles behave differently from their passive counterparts when it comes to their diffusivity. In particular, an active particle of a certain size violates the Stokes-Einstein relation [34], which states that the translational diffusion coefficient (of a sphere) is given by\n",
      "\n",
      "$$ D = \\dfrac{k_{B}T}{6 \\pi \\eta R} $$\n",
      "\n",
      "where $k_{\\mathrm{B}}$ is Boltzmann's constant, $T$ the temperature, $\\eta$ is the viscosity, and $R$ is the radius. For a Langevin thermostat the friction $\\zeta \\equiv 6 \\pi \\eta R$ and the \\`temperature' is given in units of $k_{\\mathrm{B}}$. If the self-propelled particle does not experience Brownian motion, it would move with a constant speed along a straight line. This means that its motion is ballistic. Rotational reorientation due to Brownian collisions with the fluid, causes this self-propulsion-induced ballistic regime to transition into a diffusive regime, on a time governed by the rotational diffusion. Thus, when compared to its passive equivalent, the ballistic regime of the mean-squared displacement (MSD) is stretched considerably and diffusivity is enhanced. Analysis of the equations of motion [21] shows that the MSD is given by\n",
      "\n",
      "$$\\langle r^{2}(t) \\rangle = 6 D t + \\frac{v^{2} \\tau^{2}_{R}}{2} \\left[ \\frac{2 t}{\\tau^{2}_{R}} + \\exp\\left( \\frac{-2t}{\\tau^{2}_{R}} \\right) - 1 \\right]$$\n",
      "\n",
      "where $\\langle r^{2}(t) \\rangle$ is the MSD from time $t=0$, $v$ is the propulsion velocity, $\\tau^{2}_{R}$ is the rotational Brownian time, and $D$ is the translational diffusivity. For small times ($t \\ll \\tau_{R}$) the motion is ballistic\n",
      "\n",
      "$$ \\langle r^{2}(t) \\rangle = 6 D t + v^{2} t^{2} $$\n",
      "\n",
      "while for long times ($t \\gg \\tau_{R}$) the motion is diffusive\n",
      "\n",
      "$$ \\langle r^{2}(t) \\rangle = (6 D + v^{2}\\tau_{R}) t $$\n",
      "\n",
      "with enhanced diffusion coefficient $D_{\\mathrm{eff}} = D + v^{2}\\tau_{R}/6$.  Note that no matter the strength of the activity, provided it is some finite value, the crossover between ballistic motion and enhanced diffusion is controlled by the rotational diffusion time. One can, of course, also connect this increased diffusion with an effective temperature, using the Stokes-Einstein relation. However, this apparent equivalence can lead to problems when one then attempts to apply statistical mechanics to such systems at the effective temperature. That is, there is typically more to being out-of-equilibrium than can be captured by a simple remapping of equilibrium parameters."
     ]
    },
    {
     "cell_type": "markdown",
     "metadata": {},
     "source": [
      "Now, we simulate a Langevin-based swimmer that captures the property of enhanced diffusion. As explained earlier, the following command sets the swimming velocity of the swimmer to 5.0 (in MD units):"
     ]
    },
    {
     "cell_type": "code",
     "collapsed": false,
     "input": [
      "swimmer_velocity = 5.0\n",
      "system.part[0].swimming = {'v_swim':swimmer_velocity}\n",
      "print(system.part[0].swimming['f_swim'])\n",
      "print(system.part[0].swimming['v_swim'])"
     ],
     "language": "python",
     "metadata": {},
     "outputs": [
      {
       "output_type": "stream",
       "stream": "stdout",
       "text": [
        "0.0\n",
        "5.0\n"
       ]
      }
     ],
     "prompt_number": 5
    },
    {
     "cell_type": "markdown",
     "metadata": {},
     "source": [
      "For obtaining better statistics, the simulation code written below has to run several times which can accomplished by a <tt>for</tt> loop. Increasing the number of runs will slow down the simulation. Quantities of interest like the mean squared displacement (MSD), velocity auto-correlation function (VACF) and angular velocity auto-correlation function (AVACF) can be obtained by using relevant correlators that can be imported from <tt>espressomd.correlators</tt>. The observables are represented as Python classes derived from <tt>espressomd.observables.Observable</tt>. They are contained in the <tt>espressomd.observables</tt> module. Here, we have instanced <tt>ParticlePositions</tt>, <tt>ParticleVelocities</tt> and <tt>ParticleAngularVelocities</tt> for calculating MSD, VACF and AVACF respectively defined as:\n",
      "\n",
      "$$\\mathrm{MSD}(t) = \\langle (\\mathbf{r}(t + \\tau) - \\mathbf{r}(\\tau))^{2} \\rangle_{\\tau}$$\n",
      "\n",
      "$$\\mathrm{VACF}(t) = \\langle \\mathbf{v}(t) \\cdot \\mathbf{v}(t + \\tau) \\rangle_{\\tau}$$\n",
      "\n",
      "$$\\mathrm{AVACF}(t) = \\langle \\boldsymbol{\\omega}(t) \\cdot \\boldsymbol{\\omega}(t + \\tau) \\rangle_{\\tau}$$"
     ]
    },
    {
     "cell_type": "markdown",
     "metadata": {},
     "source": [
      "Here, $\\mathbf{r}$ is the position, $\\mathbf{v}$ is the velocity and $\\boldsymbol{\\omega}$ is the angular velocity, and the brackets $\\langle \\rangle_{\\tau}$ indicate time averaging over $\\tau$. Depending on the desired quantity, the relevant type of correlation and observable must be used. For example, for computing the MSD, the <tt>corr_operation</tt> is set to <tt>\"square_distance_componentwise\"</tt>. This gives the MSD for each component, viz. x,y and z. The time step <tt>dt</tt> is set next, followed by the value of maximum time (<tt>tmax</tt>). The value of <tt>tmax</tt> determines the number of samples gathered for the longest time in the correlation function. The command <tt>tau_lin</tt> sets the sampling intervals for the correlator according to an exponential distribution [31]. <tt>system.auto_update_correlators.add(msd)</tt> sets up the correlator for performing calculations during integration. Finally,  \n",
      "\n",
      "<tt>system.auto_update_correlators.remove(msd)</tt>  \n",
      "<tt>msd.finalize()</tt> \n",
      "\n",
      "terminates auto-updation and processes information that has not yet been put to use."
     ]
    },
    {
     "cell_type": "code",
     "collapsed": false,
     "input": [
      "# Make available observables and correlators\n",
      "from espressomd.observables import ParticlePositions, ParticleVelocities, ParticleAngularVelocities\n",
      "from espressomd.accumulators import Correlator\n",
      "\n",
      "# Set a random seed for each run\n",
      "system.seed = np.random.randint(0,2**31-1)\n",
      "\n",
      "# Remove all particles and place a single active particle\n",
      "system.part[:].remove()\n",
      "system.part.add(pos=[5.0,5.0,5.0],swimming={'v_swim':5.0},rotation=[1,1,1])\n",
      "\n",
      "tmax = sampsteps*system.time_step\n",
      "\n",
      "# Initialize msd correlator\n",
      "pos_id = ParticlePositions(ids=[0])\n",
      "msd = Correlator(obs1=pos_id,corr_operation=\"square_distance_componentwise\",\n",
      "                 delta_N=1,tau_max=tmax,tau_lin=16)\n",
      "system.auto_update_accumulators.add(msd)\n",
      "\n",
      "# Initialize velocity auto-correlation function correlator\n",
      "vel_id = ParticleVelocities(ids=[0])\n",
      "vacf = Correlator(obs1=pos_id,corr_operation=\"scalar_product\",\n",
      "                 delta_N=1,tau_max=tmax,tau_lin=16)\n",
      "system.auto_update_accumulators.add(vacf)\n",
      "\n",
      "# Initialize angular velocity auto-correlation function correlator\n",
      "ang_id = ParticleAngularVelocities(ids=[0])\n",
      "avacf = Correlator(obs1=pos_id,corr_operation=\"scalar_product\",\n",
      "                 delta_N=1,tau_max=tmax,tau_lin=16)\n",
      "system.auto_update_accumulators.add(avacf)\n",
      "\n",
      "# Integrate\n",
      "for i in range(sampsteps):\n",
      "    system.integrator.run(samplength)\n",
      "\n",
      "# Finalize correlators and store in arrays\n",
      "system.auto_update_accumulators.remove(msd)\n",
      "msd.finalize()\n",
      "msd_data = msd.result()\n",
      "\n",
      "system.auto_update_accumulators.remove(vacf)\n",
      "vacf.finalize()\n",
      "vacf_data = vacf.result()\n",
      "\n",
      "system.auto_update_accumulators.remove(avacf)\n",
      "avacf.finalize()\n",
      "avacf_data = avacf.result()\n",
      "    \n",
      "print(system.part[:].pos)"
     ],
     "language": "python",
     "metadata": {},
     "outputs": [
      {
       "output_type": "stream",
       "stream": "stdout",
       "text": [
        "[[ -827.93866154  -669.42602718 -3897.70847641]]\n"
       ]
      }
     ],
     "prompt_number": 6
    },
    {
     "cell_type": "code",
     "collapsed": false,
     "input": [
      "%matplotlib inline\n",
      "import matplotlib.pyplot as plt\n",
      "fig = plt.figure(num=None, figsize=(10, 6), facecolor='w', edgecolor='k')\n",
      "fig.set_tight_layout(False)\n",
      "plt.plot(msd_data[:,0], msd_data[:,2]+msd_data[:,3]+msd_data[:,4],'k-', linewidth=2)\n",
      "\n",
      "# Guides to the eye. You might have to adjust the values for better help\n",
      "# if you change the swimmer's velocity.\n",
      "plt.plot([10**-2,10**-1],[10**-3,10**-1],'c',marker='o',label='Ballistic')\n",
      "plt.plot([30,300],[1000,10000],'g',marker='o',label='Diffusive')\n",
      "\n",
      "plt.xscale('log')\n",
      "plt.yscale('log')\n",
      "plt.ylabel('$MSD(t)$',fontsize=20)\n",
      "plt.xlabel('$t$',fontsize=20)\n",
      "plt.legend()\n",
      "plt.show()"
     ],
     "language": "python",
     "metadata": {},
     "outputs": [
      {
       "metadata": {},
       "output_type": "display_data",
       "png": "[encoded data removed]",
       "text": [
        "<matplotlib.figure.Figure at 0x2b305da0b8d0>"
       ]
      }
     ],
     "prompt_number": 14
    },
    {
     "cell_type": "markdown",
     "metadata": {},
     "source": [
      "Now, we save the data obtained from our simulation in the directory </tt>outdir</tt>."
     ]
    },
    {
     "cell_type": "code",
     "collapsed": false,
     "input": [
      "# Output directory\n",
      "import os\n",
      "outdir = \"./RESULTS_ENHANCED_DIFFUSION/\"\n",
      "try:\n",
      "    os.makedirs(outdir)\n",
      "except:\n",
      "    print(\"INFO: Directory \\\"{}\\\" exists\".format(outdir))\n",
      "\n",
      "# Save data\n",
      "np.savetxt(\"{}msd_{}.dat\".format(outdir,swimmer_velocity),msd_data)\n",
      "np.savetxt(\"{}vacf_{}.dat\".format(outdir,swimmer_velocity),vacf_data)\n",
      "np.savetxt(\"{}avacf_{}.dat\".format(outdir,swimmer_velocity),avacf_data)\n"
     ],
     "language": "python",
     "metadata": {},
     "outputs": [
      {
       "output_type": "stream",
       "stream": "stdout",
       "text": [
        "INFO: Directory \"./RESULTS_ENHANCED_DIFFUSION/\" exists\n"
       ]
      }
     ],
     "prompt_number": 8
    },
    {
     "cell_type": "markdown",
     "metadata": {},
     "source": [
      "To see the effect of the swimmer's velocity, restart the kernel, change the </tt>swimmer_velocity</tt> parameter and run the notebook. Once you are done, plot the data stored in </tt>outdir</tt> for different values of swimming velocity and notice the enhanced diffusion."
     ]
    },
    {
     "cell_type": "heading",
     "level": 2,
     "metadata": {},
     "source": [
      "References"
     ]
    },
    {
     "cell_type": "markdown",
     "metadata": {},
     "source": [
      "[1] M. Ballerini, N. Cabibbo, R. Candelier, A. Cavagna, E. Cisbani, I. Giardina, V. Lecomte, A. Orlandi, G. Parisi, A. Procaccini, M. Viale, and V. Zdravkovic. Interaction ruling animal collective behavior depends on topological rather than metric distance: Evidence from a field study. Proc. Natl. Acad. Sci., 105:1232, 2008.    \n",
      "[2] Y. Katz, K. Tunstr\u00f8m, C.C. Ioannou, C. Huepe, and I.D. Couzin. Inferring the structure and dynamics of interactions in schooling fish.  Proc. Nat. Acad. Sci., 108(46):18720, 2011.  \n",
      "[3] D. Helbing, I. Farkas, and T. Vicsek. Simulating dynamical features of escape panic. Nature, 407:487, 2000.  \n",
      "[4] J. Zhang, W. Klingsch, A. Schadschneider, and A. Seyfried. Experimental study of pedestrian flow through a t-junction. In Valery V. Kozlov, Alexander P. Buslaev, Alexander S. Bugaev, Marina V. Yashina, Andreas Schadschneider, and Michael Schreckenberg, editors, Traffic and Granular Flow \u201911, page 241. Springer (Berlin/Heidelberg), 2013.  \n",
      "[5] J.L. Silverberg, M. Bierbaum, J.P. Sethna, and I. Cohen. Collective motion of humans in mosh and circle pits at heavy metal concerts.  Phys. Rev. Lett., 110:228701, 2013.  \n",
      "[6] A. Sokolov, I.S. Aranson, J.O. Kessler, and R.E. Goldstein. Concentration dependence of the collective dynamics of swimming bacteria. Phys. Rev. Lett., 98:158102, 2007.  \n",
      "[7] J. Schwarz-Linek, C. Valeriani, A. Cacciuto, M. E. Cates, D. Marenduzzo, A. N. Morozov, and W. C. K. Poon. Phase separation and rotor self-assembly in active particle suspensions. Proc. Nat. Acad. Sci., 109:4052, 2012.  \n",
      "[8] M. Reufer, R. Besseling, J. Schwarz-Linek, V.A. Martinez, A.N. Morozov, J. Arlt, D. Trubitsyn, F.B. Ward, and W.C.K. Poon. Switching of swimming modes in magnetospirillium gryphiswaldense. Biophys. J., 106:37, 2014.  \n",
      "[9] D.M. Woolley. Motility of spermatozoa at surfaces. Reproduction, 126:259, 2003.  \n",
      "[10] I.H. Riedel, K. Kruse, and J. Howard. A self-organized vortex array of hydrodynamically entrained sperm cells. Science, 309(5732):300, 2005.  \n",
      "[11] R. Ma, G.S. Klindt, I.H. Riedel-Kruse, F. Ju\u0308licher, and B.M. Friedrich. Active phase and amplitude fluctuations of flagellar beating. Phys. Rev. Lett., 113:048101, 2014.  \n",
      "[12] M. Polin, I. Tuval, K. Drescher, J.P. Gollub, and R.E. Goldstein. Chlamydomonas swims with two \u201cgears\u201d in a eukaryotic version of run-and-tumble locomotion. Science, 325:487, 2009.  \n",
      "[13] V.F. Geyer, F. Ju\u0308licher, J. Howard, and B.M. Friedrich. Cell-body rocking is a dominant mechanism for flagellar synchronization in a swimming alga. Proc. Nat. Acad. Sci., 110:18058, 2013.  \n",
      "[14] D. Mizuno, C. Tardin, C.F. Schmidt, and F.C. MacKintosh. Nonequilibrium mechanics of active cytoskeletal networks. Science, 315:370, 2007.  \n",
      "[15] R.F. Ismagilov, A. Schwartz, N. Bowden, and G.M. Whitesides. Autonomous movement and self-assembly. Angew. Chem. Int. Ed., 41:652, 2002.  \n",
      "[16] W. F. Paxton, K. C. Kistler, C. C. Olmeda, A. Sen, S. K. St. Angelo, Y. Cao, T. E. Mallouk, P. E. Lammert, and V. H. Crespi. Catalytic nanomotors: autonomous movement of striped nanorods. J. Am. Chem. Soc., 126:13424, 2004.  \n",
      "[17] Y. Wang, R. M. Hernandez, D. J. Bartlett, J. M. Bingham, T. R. Kline, A. Sen, and T. E. Mallouk. Bipolar electrochemical mechanism for the propulsion of catalytic nanomotors in hydrogen peroxide solutions. Langmuir, 22:10451, 2006.  \n",
      "[18] A. Brown and W. Poon. Ionic effects in self-propelled pt-coated janus swimmers. Soft Matter, 10:4016\u20134027, 2014.  \n",
      "[19] S. Ebbens, D.A. Gregory, G. Dunderdale, J.R. Howse, Y. Ibrahim, T.B. Liverpool, and R. Golestanian. Electrokinetic effects in catalytic platinum-insulator janus swimmers. Euro. Phys. Lett., 106:58003, 2014.  \n",
      "[20] S. Ebbens, M.-H. Tu, J. R. Howse, and R. Golestanian. Size dependence of the propulsion velocity for catalytic janus-sphere swimmers. Phys. Rev. E, 85:020401, 2012.  \n",
      "[21] J. R. Howse, R. A. L. Jones, A. J. Ryan, T. Gough, R. Vafabakhsh, and R. Golestanian. Self-motile colloidal particles: From directed propulsion to random walk. Phys. Rev. Lett., 99:048102, 2007.  \n",
      "[22] L. F. Valadares, Y.-G. Tao, N. S. Zacharia, V. Kitaev, F. Galembeck, R. Kapral, and G. A. Ozin. Catalytic nanomotors: Self-propelled sphere dimers. Small, 6:565, 2010.  \n",
      "[23] J. Simmchen, V. Magdanz, S. Sanchez, S. Chokmaviroj, D. Ruiz-Molina, A. Baeza, and O.G. Schmidt. Effect of surfactants on the performance of tubular and spherical micromotors \u2013 a comparative study. RSC Adv., 4:20334, 2014.  \n",
      "[24] H.-R. Jiang, N. Yoshinaga, and M. Sano. Active motion of a janus particle by self-thermophoresis in a defocused laser beam. Phys. Rev. Lett., 105:268302, 2010.  \n",
      "[25] L. Baraban, R. Streubel, D. Makarov, L. Han, D. Karnaushenko, O. G. Schmidt, and G. Cuniberti. Fuel-free locomotion of janus motors: Magnetically induced thermophoresis. ACS Nano, 7:1360, 2013.  \n",
      "[26] I. Buttinoni, G. Volpe, F. Ku\u0308mmel, G. Volpe, and C. Bechinger. Active brownian motion tunable by light. J. Phys.: Condens. Matter, 24:284129, 2012.  \n",
      "[27] A. A. Solovev, Y. Mei, E. Bermu\u0301dez Uren\u0303a, G. Huang, and O. G. Schmidt. Catalytic microtubular jet engines self-propelled by accumulated gas bubbles. Small, 5:1688, 2009.  \n",
      "[28] Y. Mei, A. A. Solovev, S. Sanchez, and O. G. Schmidt. Rolled-up nanotech on polymers: from basic perception to self-propelled catalytic microengines. Chem. Soc. Rev., 40:2109, 2011.  \n",
      "[29] M.E. Cates. Diffusive transport without detailed balance in motile bacteria: does microbiology need statistical physics? Rep. Prog. Phys., 75:042601, 2012.  \n",
      "[30] M.E. Cates and J. Tailleur. Motility-induced phase separation. Annu. Rev. Condens. Matter Phys., 6:219, 2015.  \n",
      "[31] A. Arnold et al. Espresso user guide. User Guide: ESPResSo git repository, 3.4-dev-1404-g32d3874:1, 2015.  \n",
      "[32] H. J. Limbach, A. Arnold, B. A. Mann, and C. Holm. ESPResSo \u2013 an extensible simulation package for research on soft matter systems.  Comp. Phys. Comm., 174:704, 2006.  \n",
      "[33] A. Arnold, O. Lenz, S. Kesselheim, R. Weeber, F. Fahrenberger, D. Roehm, P. Kos\u030covan, and C. Holm. ESPResSo 3.1 \u2014 Molecular Dynamics Software for Coarse-Grained Models. In M. Griebel and M. A. Schweitzer, editors, Meshfree Methods for Partial Differential Equations VI, volume 89 of Lecture Notes in Computational Science and Engineering, page 1. Springer, 2013.  \n",
      "[34] D. Roehm and A. Arnold. Lattice boltzmann simulations on GPUs with ESPResSo. Eur. Phys. J. ST, 210:73, 2012.  "
     ]
    },
    {
     "cell_type": "markdown",
     "metadata": {},
     "source": [
      "Of particular importance for self-propulsion at low Reynolds number is the fact that active systems (bacteria, sperm, algae, but also artificial chemically powered swimmers) are force free. That is, the flow field around one of these objects does not contain a monopolar (Stokeslet) contribution. In the case of a sperm cell, see Fig. 2 (a), the reasoning is as follows. The whip-like tail pushes against the fluid and the fluid pushes against the tail, at the same time the head experiences drag, pushing against the fluid and being pushed back against by the fluid. This ensures that both the swimmer and the fluid experience no net force. However, due to the asymmetry of the distribution of forces around the swimmer, the fluid flow still causes net motion. When there is no net force on the fluid, the lowest-order multipole that can be present is a hydrodynamic dipole. Since a dipole has an orientation, there are two types of swimmer: pushers and pullers. The distinction is made by whether the particle pulls fluid in from the front and back, and pushes it out towards its side (puller), or vice versa (pusher), see Fig. 2 (c,d)."
     ]
    },
    {
     "cell_type": "markdown",
     "metadata": {},
     "source": [
      "<figure>\n",
      "<img src='figures/pusher-puller.png' alt='missing' style='width: 450px;'/>\n",
      "<figcaption> FIG. 2. (a) Illustration of a sperm cell modeled using our two-point swimmer code. The head is represented by a solid particle, on which a force is acting (black arrow). In the fluid a counter force is applied (white arrow). This generates a pusher-type particle. (b) Illustration of the puller-type Chlamydomonas algae, also represented by our two-point swimmer. (c,d) Sketch of the flow-lines around the swimmers: (c) pusher and (d) puller.\n",
      "</figure>"
     ]
    },
    {
     "cell_type": "markdown",
     "metadata": {},
     "source": [
      "In <tt>ESPResSo</tt> one can model both pushers and pullers using the following command. Say we want to set up a pusher with ID 0 at the position $(1,1,1)$ that has a dipolar strength of $0.1$. Then we need to first set up the LB fluid (on the GPU) by invoking"
     ]
    },
    {
     "cell_type": "code",
     "collapsed": false,
     "input": [
      "#lbf = espressomd.lb.LBFluidGPU(agrid=1, dens=1.0, visc=1.0, tau=0.01, fric=20.0, couple='3pt')\n",
      "#system.actors.add(lbf)\n",
      "#system.thermostat.set_lb(kT=0.0)"
     ],
     "language": "python",
     "metadata": {},
     "outputs": [],
     "prompt_number": 9
    }
   ],
   "metadata": {}
  }
 ]
}